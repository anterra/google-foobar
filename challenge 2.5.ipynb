{
 "cells": [
  {
   "cell_type": "code",
   "execution_count": 1,
   "metadata": {},
   "outputs": [
    {
     "name": "stdout",
     "output_type": "stream",
     "text": [
      "value of y: 5\n",
      "[[1], [3, 2], [6, 5, 4], [10, 9, 8, 7], [15, 14, 13, 12, 11]]\n",
      "{1: {1: 1, 2: 3, 3: 6, 4: 10, 5: 15}, 2: {1: 1, 2: 3, 3: 6, 4: 10, 5: 15}, 3: {1: 1, 2: 3, 3: 6, 4: 10, 5: 15}, 4: {1: 1, 2: 3, 3: 6, 4: 10, 5: 15}, 5: {1: 1, 2: 3, 3: 6, 4: 10, 5: 15}}\n"
     ]
    }
   ],
   "source": [
    "n = int(input(\"value of y: \")) # we want ultimately 100000\n",
    "\n",
    "num = 1\n",
    "x_dict = {}\n",
    "y_dict = {}\n",
    "list_of_lists = []\n",
    "for y in range(1, n + 1):\n",
    "    the_list = []\n",
    "    for x in range(1, y + 1):\n",
    "        the_list.append(num)\n",
    "        num += 1\n",
    "    the_list.reverse()\n",
    "    list_of_lists.append(the_list)\n",
    "\n",
    "    for each_list in list_of_lists:\n",
    "        x_dict[y] = each_list[0]\n",
    "    y_dict[y] = x_dict\n",
    "    \n",
    "print(list_of_lists)\n",
    "print(y_dict)"
   ]
  },
  {
   "cell_type": "code",
   "execution_count": 2,
   "metadata": {},
   "outputs": [
    {
     "name": "stdout",
     "output_type": "stream",
     "text": [
      "1 \n",
      "2 3 \n",
      "4 5 6 \n",
      "7 8 9 10 \n",
      "11 12 13 14 15 \n"
     ]
    }
   ],
   "source": [
    "num = 1\n",
    "for y in range(1, n+1):\n",
    "    for x in range(1, y+1):\n",
    "        print(num, end=\" \") # python2: \"print num,\"\n",
    "        num += 1\n",
    "    print()"
   ]
  },
  {
   "cell_type": "code",
   "execution_count": 5,
   "metadata": {},
   "outputs": [
    {
     "name": "stdout",
     "output_type": "stream",
     "text": [
      "value of y: 4\n",
      "[[1], [2, 3], [4, 5, 6], [7, 8, 9, 10]]\n",
      "{1: {1: 1, 2: 2, 3: 4, 4: 7, 5: 3, 6: 5, 7: 8, 8: 6, 9: 9, 10: 10}, 2: {1: 1, 2: 2, 3: 4, 4: 7, 5: 3, 6: 5, 7: 8, 8: 6, 9: 9, 10: 10}, 3: {1: 1, 2: 2, 3: 4, 4: 7, 5: 3, 6: 5, 7: 8, 8: 6, 9: 9, 10: 10}, 4: {1: 1, 2: 2, 3: 4, 4: 7, 5: 3, 6: 5, 7: 8, 8: 6, 9: 9, 10: 10}, 5: {1: 1, 2: 2, 3: 4, 4: 7, 5: 3, 6: 5, 7: 8, 8: 6, 9: 9, 10: 10}, 6: {1: 1, 2: 2, 3: 4, 4: 7, 5: 3, 6: 5, 7: 8, 8: 6, 9: 9, 10: 10}, 7: {1: 1, 2: 2, 3: 4, 4: 7, 5: 3, 6: 5, 7: 8, 8: 6, 9: 9, 10: 10}, 8: {1: 1, 2: 2, 3: 4, 4: 7, 5: 3, 6: 5, 7: 8, 8: 6, 9: 9, 10: 10}, 9: {1: 1, 2: 2, 3: 4, 4: 7, 5: 3, 6: 5, 7: 8, 8: 6, 9: 9, 10: 10}, 10: {1: 1, 2: 2, 3: 4, 4: 7, 5: 3, 6: 5, 7: 8, 8: 6, 9: 9, 10: 10}}\n",
      "7\n"
     ]
    }
   ],
   "source": [
    "n = int(input(\"value of y: \")) # we want ultimately 100000\n",
    "\n",
    "\n",
    "def solution(x, y):\n",
    "    num = 1\n",
    "    y_dict = {}\n",
    "    id_dict = {}\n",
    "    list_of_lists = []\n",
    "    for y in range(1, n + 1):\n",
    "        the_list = []\n",
    "        for x in range(1, y + 1):\n",
    "            the_list.append(num)\n",
    "            num += 1\n",
    "        list_of_lists.append(the_list)\n",
    "    print(list_of_lists)\n",
    "\n",
    "    key = 1\n",
    "    while list_of_lists:\n",
    "        for each_list in list_of_lists:\n",
    "            y_dict[key] = each_list[0]\n",
    "            each_list.pop(0)\n",
    "            id_dict[key] = y_dict\n",
    "            key += 1\n",
    "        list_of_lists.pop(0)\n",
    "\n",
    "    print(id_dict)\n",
    "    return id_dict[x][y]\n",
    "\n",
    "\n",
    "print(solution(1, 1))"
   ]
  },
  {
   "cell_type": "code",
   "execution_count": 6,
   "metadata": {},
   "outputs": [
    {
     "name": "stdout",
     "output_type": "stream",
     "text": [
      "{1: {1: 1}}\n",
      "1\n"
     ]
    }
   ],
   "source": [
    "def solution(x, y):\n",
    "    if x > y:\n",
    "        n = x\n",
    "    else:\n",
    "        n = y\n",
    "    num = 1\n",
    "    y_dict = {}\n",
    "    id_dict = {}\n",
    "    list_of_lists = []\n",
    "    for y in range(1, n + 1):\n",
    "        the_list = []\n",
    "        for x in range(1, y + 1):\n",
    "            the_list.append(num)\n",
    "            num += 1\n",
    "        list_of_lists.append(the_list)\n",
    "\n",
    "    id_key = 1\n",
    "    while list_of_lists:\n",
    "        y_key = 1\n",
    "        y_dict.clear()\n",
    "        for each_list in list_of_lists:\n",
    "            y_dict[y_key] = each_list[0]\n",
    "            each_list.pop(0)\n",
    "            y_key += 1\n",
    "        id_dict[id_key] = dict(y_dict)\n",
    "        id_key += 1\n",
    "        list_of_lists.pop(0)\n",
    "\n",
    "    print(id_dict)\n",
    "    return id_dict[x][y]\n",
    "\n",
    "\n",
    "print(solution(1, 1))"
   ]
  },
  {
   "cell_type": "code",
   "execution_count": 5,
   "metadata": {},
   "outputs": [
    {
     "name": "stdout",
     "output_type": "stream",
     "text": [
      "1998001\n"
     ]
    }
   ],
   "source": [
    "# present working solution! :sparkle:\n",
    "\n",
    "import numpy as np \n",
    "\n",
    "def solution(x, y):\n",
    "    if x > y:\n",
    "        n = 2 * x + 1\n",
    "    else:\n",
    "        n = 2 * y + 1\n",
    "    num = 1\n",
    "\n",
    "    list_of_lists = []\n",
    "    for col in range(1, n + 1):\n",
    "        the_list = []\n",
    "        for row in range(1, col + 1):\n",
    "            the_list.append(num)\n",
    "            num += 1\n",
    "        list_of_lists.append(the_list)\n",
    "\n",
    "    y_dict = {}\n",
    "    id_dict = {}\n",
    "    id_key = 1\n",
    "    while list_of_lists:\n",
    "        y_key = 1\n",
    "        y_dict.clear()\n",
    "        for each_list in list_of_lists:\n",
    "            y_dict[y_key] = each_list[0]\n",
    "            each_list.pop(0)\n",
    "            y_key += 1\n",
    "        id_dict[id_key] = dict(y_dict)\n",
    "        id_key += 1\n",
    "        list_of_lists.pop(0)\n",
    "\n",
    "    return str(id_dict[x][y])\n",
    "\n",
    "\n",
    "print(solution(1000, 1000))"
   ]
  },
  {
   "cell_type": "code",
   "execution_count": 27,
   "metadata": {},
   "outputs": [
    {
     "name": "stdout",
     "output_type": "stream",
     "text": [
      "1.22 s ± 70.2 ms per loop (mean ± std. dev. of 7 runs, 1 loop each)\n"
     ]
    }
   ],
   "source": [
    "%timeit solution(1000, 1000)"
   ]
  },
  {
   "cell_type": "code",
   "execution_count": 18,
   "metadata": {},
   "outputs": [
    {
     "name": "stdout",
     "output_type": "stream",
     "text": [
      "1998001\n"
     ]
    }
   ],
   "source": [
    "# dictionary only method \n",
    "\n",
    "def solution(x, y):\n",
    "    \"\"\" Takes 2 integer inputs, x and y. Returns the ID of the prisoner located at\n",
    "    the input coordinates (x, y) within a triangle shaped prison as a string.\"\"\"\n",
    "    \n",
    "    # defining size of triangle based on largest input value\n",
    "    if x > y:\n",
    "        n = 2 * x\n",
    "    else:\n",
    "        n = 2 * y\n",
    "\n",
    "    # generating Floyd triangle\n",
    "    num = 1\n",
    "    rows = {}\n",
    "    for row in range(1, n + 1):\n",
    "        cols = {}\n",
    "        for col in range(1, row + 1):\n",
    "            cols[col] = num\n",
    "            num += 1\n",
    "        rows[row] = cols\n",
    "\n",
    "    # generating prison triangle\n",
    "    id_list = {}\n",
    "    for x_id in range(1, n + 1):\n",
    "        y_id = 1\n",
    "        y_list = {}\n",
    "        for row in range(1, n + 1):\n",
    "            if len(rows[row]) >= x_id:\n",
    "                y_list[y_id] = rows[row][x_id]\n",
    "                y_id += 1\n",
    "            else:\n",
    "                pass\n",
    "        id_list[x_id] = y_list\n",
    "\n",
    "    return str(id_list[x][y])\n",
    "\n",
    "print(solution(1000, 1000))"
   ]
  },
  {
   "cell_type": "code",
   "execution_count": 19,
   "metadata": {},
   "outputs": [
    {
     "name": "stdout",
     "output_type": "stream",
     "text": [
      "1.09 s ± 50.4 ms per loop (mean ± std. dev. of 7 runs, 1 loop each)\n"
     ]
    }
   ],
   "source": [
    "%timeit solution(1000, 1000)"
   ]
  },
  {
   "cell_type": "code",
   "execution_count": 59,
   "metadata": {},
   "outputs": [
    {
     "name": "stdout",
     "output_type": "stream",
     "text": [
      "9\n"
     ]
    }
   ],
   "source": [
    "def solution(x, y):\n",
    "    if x > y:\n",
    "        n = 2 * x + 1\n",
    "    else:\n",
    "        n = 2 * y + 1\n",
    "    num = 1\n",
    "\n",
    "    \n",
    "    list_of_lists = [list(range(i * (i - 1) // 2 + 1, i * (i + 1) // 2 + 1))\n",
    "                for i in range(1, n + 1)]\n",
    "\n",
    "    y_dict = {}\n",
    "    id_dict = {}\n",
    "    id_key = 1\n",
    "    while list_of_lists:\n",
    "        y_key = 1\n",
    "        y_dict.clear()\n",
    "        for each_list in list_of_lists:\n",
    "            y_dict[y_key] = each_list[0]\n",
    "            each_list.pop(0)\n",
    "            y_key += 1\n",
    "        id_dict[id_key] = dict(y_dict)\n",
    "        id_key += 1\n",
    "        list_of_lists.pop(0)\n",
    "\n",
    "    return str(id_dict[x][y])\n",
    "\n",
    "\n",
    "print(solution(3, 2))"
   ]
  },
  {
   "cell_type": "code",
   "execution_count": null,
   "metadata": {},
   "outputs": [],
   "source": [
    "%timeit solution(10000,10000)"
   ]
  },
  {
   "cell_type": "code",
   "execution_count": 50,
   "metadata": {},
   "outputs": [
    {
     "name": "stdout",
     "output_type": "stream",
     "text": [
      "[[1], [2, 3], [4, 5, 6], [7, 8, 9, 10], [11, 12, 13, 14, 15]]\n"
     ]
    }
   ],
   "source": [
    "def floyd2(rowcount):\n",
    "    the_list = [list(range(i * (i - 1) // 2 + 1, i * (i + 1) // 2 + 1))\n",
    "                for i in range(1, rowcount + 1)]\n",
    "    return the_list\n",
    "print(floyd2(5))"
   ]
  },
  {
   "cell_type": "code",
   "execution_count": 53,
   "metadata": {},
   "outputs": [
    {
     "name": "stdout",
     "output_type": "stream",
     "text": [
      "{1: {1: 1}, 2: {1: 2, 2: 3}, 3: {1: 4, 2: 5, 3: 6}, 4: {1: 7, 2: 8, 3: 9, 4: 10}, 5: {1: 11, 2: 12, 3: 13, 4: 14, 5: 15}}\n"
     ]
    }
   ],
   "source": [
    "def floyd3(n): \n",
    "    num = 1\n",
    "    rows = {}\n",
    "    for row in range(1, n + 1):\n",
    "        cols = {}\n",
    "        for col in range(1, row + 1):\n",
    "            cols[col] = num\n",
    "            num += 1\n",
    "        rows[row] = cols\n",
    "    return rows\n",
    "print(floyd3(5))"
   ]
  },
  {
   "cell_type": "code",
   "execution_count": 54,
   "metadata": {},
   "outputs": [
    {
     "name": "stdout",
     "output_type": "stream",
     "text": [
      "2.38 µs ± 45.2 ns per loop (mean ± std. dev. of 7 runs, 100000 loops each)\n"
     ]
    }
   ],
   "source": [
    "%timeit floyd2(5)"
   ]
  },
  {
   "cell_type": "code",
   "execution_count": 55,
   "metadata": {},
   "outputs": [
    {
     "name": "stdout",
     "output_type": "stream",
     "text": [
      "2.27 µs ± 30.7 ns per loop (mean ± std. dev. of 7 runs, 100000 loops each)\n"
     ]
    }
   ],
   "source": [
    "%timeit floyd3(5)"
   ]
  },
  {
   "cell_type": "code",
   "execution_count": 56,
   "metadata": {},
   "outputs": [
    {
     "name": "stdout",
     "output_type": "stream",
     "text": [
      "{1: [1], 2: [2, 3], 3: [4, 5, 6], 4: [7, 8, 9, 10], 5: [11, 12, 13, 14, 15]}\n"
     ]
    }
   ],
   "source": [
    "def floyd2(rowcount):\n",
    "    the_dict = {i: list(range(i * (i - 1) // 2 + 1, i * (i + 1) // 2 + 1))\n",
    "                for i in range(1, rowcount + 1)}\n",
    "    return(the_dict)\n",
    "print(floyd2(5))"
   ]
  },
  {
   "cell_type": "code",
   "execution_count": 58,
   "metadata": {},
   "outputs": [
    {
     "name": "stdout",
     "output_type": "stream",
     "text": [
      "2.44 µs ± 33 ns per loop (mean ± std. dev. of 7 runs, 100000 loops each)\n"
     ]
    }
   ],
   "source": [
    "%timeit floyd2(5)"
   ]
  },
  {
   "cell_type": "code",
   "execution_count": null,
   "metadata": {},
   "outputs": [],
   "source": [
    "def solution(x, y):\n",
    "    if x > y:\n",
    "        n = 2 * x + 1\n",
    "    else:\n",
    "        n = 2 * y + 1\n",
    "    num = 1\n",
    "\n",
    "    def floyd(rowcount=5):\n",
    "        rows = [[1]]\n",
    "        while len(rows) < rowcount:\n",
    "            n = rows[-1][-1] + 1\n",
    "            rows.append(list(range(n, n + len(rows[-1]) + 1)))\n",
    "        return rows\n",
    "    \n",
    "    def pfloyd(rows=[[1], [2, 3], [4, 5, 6], [7, 8, 9, 10]]):\n",
    "        colspace = [len(str(n)) for n in rows[-1]]\n",
    "        for row in rows:\n",
    "            triangle = \" \".join(\"%*i\" % space_n for space_n in zip(colspace, row))\n",
    "\n",
    "    y_dict = {}\n",
    "    id_dict = {}\n",
    "    id_key = 1\n",
    "    while list_of_lists:\n",
    "        y_key = 1\n",
    "        y_dict.clear()\n",
    "        for each_list in list_of_lists:\n",
    "            y_dict[y_key] = each_list[0]\n",
    "            each_list.pop(0)\n",
    "            y_key += 1\n",
    "        id_dict[id_key] = dict(y_dict)\n",
    "        id_key += 1\n",
    "        list_of_lists.pop(0)\n",
    "\n",
    "    return str(id_dict[x][y])\n",
    "\n",
    "\n",
    "print(solution(3, 2))"
   ]
  },
  {
   "cell_type": "code",
   "execution_count": 9,
   "metadata": {},
   "outputs": [
    {
     "name": "stderr",
     "output_type": "stream",
     "text": [
      "IOPub data rate exceeded.\n",
      "The notebook server will temporarily stop sending output\n",
      "to the client in order to avoid crashing it.\n",
      "To change this limit, set the config variable\n",
      "`--NotebookApp.iopub_data_rate_limit`.\n",
      "\n",
      "Current values:\n",
      "NotebookApp.iopub_data_rate_limit=1000000.0 (bytes/sec)\n",
      "NotebookApp.rate_limit_window=3.0 (secs)\n",
      "\n"
     ]
    }
   ],
   "source": [
    "def floyd(rowcount):\n",
    "    rows = [[1]]\n",
    "    while len(rows) < rowcount:\n",
    "        n = rows[-1][-1] + 1\n",
    "        rows.append(list(range(n, n + len(rows[-1]) + 1)))\n",
    "    return rows\n",
    "\n",
    "print(floyd(1000))"
   ]
  },
  {
   "cell_type": "code",
   "execution_count": 23,
   "metadata": {},
   "outputs": [
    {
     "name": "stdout",
     "output_type": "stream",
     "text": [
      "[[1, 3, 6, 10, 15], [2, 5, 9, 14, 20], [4, 8, 13, 19, 26], [7, 12, 18, 25, 33], [11, 17, 24, 32, 41], [16, 23, 31, 40, 50], [22, 30, 39, 49, 60]]\n",
      "9\n"
     ]
    }
   ],
   "source": [
    "def triangles(i):\n",
    "    return (i ** 2 + i) // 2\n",
    "\n",
    "def solution(x, y):\n",
    "    if x > y:\n",
    "        n = x * 2\n",
    "    else:\n",
    "        n = y * 2\n",
    "\n",
    "    orig_triangles = [triangles(some_value) for some_value in range(1, n)]\n",
    "\n",
    "    id_triangle = [orig_triangles]\n",
    "    iterator = 1\n",
    "    for a_value in range(0, n):\n",
    "        list_of_triangles = [val + orig_triangles.index(val) + iterator for val in orig_triangles]\n",
    "        iterator += 1\n",
    "        orig_triangles = list_of_triangles\n",
    "        id_triangle.append(list_of_triangles)\n",
    "\n",
    "    print(id_triangle)\n",
    "    return id_triangle[y-1][x-1]\n",
    "\n",
    "\n",
    "print(solution(3, 2))"
   ]
  },
  {
   "cell_type": "code",
   "execution_count": 22,
   "metadata": {},
   "outputs": [
    {
     "name": "stderr",
     "output_type": "stream",
     "text": [
      "IOPub data rate exceeded.\n",
      "The notebook server will temporarily stop sending output\n",
      "to the client in order to avoid crashing it.\n",
      "To change this limit, set the config variable\n",
      "`--NotebookApp.iopub_data_rate_limit`.\n",
      "\n",
      "Current values:\n",
      "NotebookApp.iopub_data_rate_limit=1000000.0 (bytes/sec)\n",
      "NotebookApp.rate_limit_window=3.0 (secs)\n",
      "\n"
     ]
    }
   ],
   "source": [
    "%timeit solution(1000, 1000)"
   ]
  },
  {
   "cell_type": "code",
   "execution_count": 24,
   "metadata": {},
   "outputs": [
    {
     "name": "stdout",
     "output_type": "stream",
     "text": [
      "1998001\n"
     ]
    }
   ],
   "source": [
    "def solution(x, y):\n",
    "    \"\"\" Takes 2 integer inputs, x and y. Returns the ID of the prisoner located at\n",
    "    the input coordinates (x, y) within a triangle shaped prison, as a string.\n",
    "    \n",
    "    \n",
    "    In its current form, solution is failing hidden test cases 4 and 5. Had I had\n",
    "    more time, I would have turned lists into generators to conserve memory, as I\n",
    "    would guess its failing due to taking too long to execute for larger inputs. \"\"\"\n",
    "\n",
    "    \n",
    "    # determining size of prison to create based on input\n",
    "    if x > y:\n",
    "        n = x * 2\n",
    "    else:\n",
    "        n = y * 2\n",
    "\n",
    "    # defining a function which generates the triangular numbers, using it to create a list of triangular numbers\n",
    "    # and then initializing the prison with the triangular number list as the first row (y = 1)\n",
    "    def triangles(i):\n",
    "        return (i ** 2 + i) // 2\n",
    "\n",
    "    triangular_nums = [triangles(ix) for ix in range(1, n)]\n",
    "    prison_triangle = [triangular_nums]\n",
    "\n",
    "    # generating the additional rows in the prison up to the specified size\n",
    "    for row_add_value in range(1, n):\n",
    "        next_row = [val + triangular_nums.index(val) + row_add_value for val in triangular_nums]\n",
    "        triangular_nums = next_row\n",
    "        prison_triangle.append(next_row)\n",
    "\n",
    "    return prison_triangle[y-1][x-1]\n",
    "\n",
    "print(solution(1000, 1000))\n",
    "\n",
    "# def solution(x, y):\n",
    "#    \"\"\" Alternate version using only dictionaries. Also failed hidden \n",
    "#    test cases 4 and 5. \"\"\"\n",
    "    \n",
    "    # defining size of triangle based on largest input value\n",
    "#    if x > y:\n",
    "#        n = 2 * x\n",
    "#    else:\n",
    "#        n = 2 * y\n",
    "\n",
    "    # generating Floyd triangle\n",
    "#    num = 1\n",
    "#    rows = {}\n",
    "#    for row in range(1, n + 1):\n",
    "#        cols = {}\n",
    "#        for col in range(1, row + 1):\n",
    "#            cols[col] = num\n",
    "#            num += 1\n",
    "#        rows[row] = cols\n",
    "\n",
    "    # generating prison triangle\n",
    "#    id_list = {}\n",
    "#    for x_id in range(1, n + 1):\n",
    "#        y_id = 1\n",
    "#        y_list = {}\n",
    "#        for row in range(1, n + 1):\n",
    "#            if len(rows[row]) >= x_id:\n",
    "#                y_list[y_id] = rows[row][x_id]\n",
    "#                y_id += 1\n",
    "#            else:\n",
    "#                pass\n",
    "#        id_list[x_id] = y_list\n",
    "\n",
    "#    return str(id_list[x][y])"
   ]
  },
  {
   "cell_type": "code",
   "execution_count": 25,
   "metadata": {},
   "outputs": [
    {
     "name": "stdout",
     "output_type": "stream",
     "text": [
      "38.2 s ± 402 ms per loop (mean ± std. dev. of 7 runs, 1 loop each)\n"
     ]
    }
   ],
   "source": [
    "%timeit solution(1000, 1000)"
   ]
  },
  {
   "cell_type": "code",
   "execution_count": 2,
   "metadata": {},
   "outputs": [
    {
     "ename": "AttributeError",
     "evalue": "'numpy.ndarray' object has no attribute 'index'",
     "output_type": "error",
     "traceback": [
      "\u001b[0;31m---------------------------------------------------------------------------\u001b[0m",
      "\u001b[0;31mAttributeError\u001b[0m                            Traceback (most recent call last)",
      "\u001b[0;32m<ipython-input-2-cc997c2df4d5>\u001b[0m in \u001b[0;36m<module>\u001b[0;34m\u001b[0m\n\u001b[1;32m     25\u001b[0m     \u001b[0;32mreturn\u001b[0m \u001b[0mstr\u001b[0m\u001b[0;34m(\u001b[0m\u001b[0mprison_triangle\u001b[0m\u001b[0;34m[\u001b[0m\u001b[0my\u001b[0m \u001b[0;34m-\u001b[0m \u001b[0;36m1\u001b[0m\u001b[0;34m]\u001b[0m\u001b[0;34m[\u001b[0m\u001b[0mx\u001b[0m \u001b[0;34m-\u001b[0m \u001b[0;36m1\u001b[0m\u001b[0;34m]\u001b[0m\u001b[0;34m)\u001b[0m\u001b[0;34m\u001b[0m\u001b[0;34m\u001b[0m\u001b[0m\n\u001b[1;32m     26\u001b[0m \u001b[0;34m\u001b[0m\u001b[0m\n\u001b[0;32m---> 27\u001b[0;31m \u001b[0mprint\u001b[0m\u001b[0;34m(\u001b[0m\u001b[0msolution\u001b[0m\u001b[0;34m(\u001b[0m\u001b[0;36m3\u001b[0m\u001b[0;34m,\u001b[0m \u001b[0;36m2\u001b[0m\u001b[0;34m)\u001b[0m\u001b[0;34m)\u001b[0m\u001b[0;34m\u001b[0m\u001b[0;34m\u001b[0m\u001b[0m\n\u001b[0m",
      "\u001b[0;32m<ipython-input-2-cc997c2df4d5>\u001b[0m in \u001b[0;36msolution\u001b[0;34m(x, y)\u001b[0m\n\u001b[1;32m     19\u001b[0m     \u001b[0;31m# generating the additional rows in the prison up to the specified size\u001b[0m\u001b[0;34m\u001b[0m\u001b[0;34m\u001b[0m\u001b[0;34m\u001b[0m\u001b[0m\n\u001b[1;32m     20\u001b[0m     \u001b[0;32mfor\u001b[0m \u001b[0mrow_add_value\u001b[0m \u001b[0;32min\u001b[0m \u001b[0mrange\u001b[0m\u001b[0;34m(\u001b[0m\u001b[0;36m1\u001b[0m\u001b[0;34m,\u001b[0m \u001b[0mn\u001b[0m\u001b[0;34m)\u001b[0m\u001b[0;34m:\u001b[0m\u001b[0;34m\u001b[0m\u001b[0;34m\u001b[0m\u001b[0m\n\u001b[0;32m---> 21\u001b[0;31m         \u001b[0mnext_row\u001b[0m \u001b[0;34m=\u001b[0m \u001b[0;34m[\u001b[0m\u001b[0mval\u001b[0m \u001b[0;34m+\u001b[0m \u001b[0mfirst_row\u001b[0m\u001b[0;34m.\u001b[0m\u001b[0mindex\u001b[0m\u001b[0;34m(\u001b[0m\u001b[0mval\u001b[0m\u001b[0;34m)\u001b[0m \u001b[0;34m+\u001b[0m \u001b[0mrow_add_value\u001b[0m \u001b[0;32mfor\u001b[0m \u001b[0mval\u001b[0m \u001b[0;32min\u001b[0m \u001b[0mfirst_row\u001b[0m\u001b[0;34m]\u001b[0m\u001b[0;34m\u001b[0m\u001b[0;34m\u001b[0m\u001b[0m\n\u001b[0m\u001b[1;32m     22\u001b[0m         \u001b[0mfirst_row\u001b[0m \u001b[0;34m=\u001b[0m \u001b[0mnext_row\u001b[0m\u001b[0;34m\u001b[0m\u001b[0;34m\u001b[0m\u001b[0m\n\u001b[1;32m     23\u001b[0m         \u001b[0mprison_triangle\u001b[0m\u001b[0;34m.\u001b[0m\u001b[0mappend\u001b[0m\u001b[0;34m(\u001b[0m\u001b[0mnext_row\u001b[0m\u001b[0;34m)\u001b[0m\u001b[0;34m\u001b[0m\u001b[0;34m\u001b[0m\u001b[0m\n",
      "\u001b[0;32m<ipython-input-2-cc997c2df4d5>\u001b[0m in \u001b[0;36m<listcomp>\u001b[0;34m(.0)\u001b[0m\n\u001b[1;32m     19\u001b[0m     \u001b[0;31m# generating the additional rows in the prison up to the specified size\u001b[0m\u001b[0;34m\u001b[0m\u001b[0;34m\u001b[0m\u001b[0;34m\u001b[0m\u001b[0m\n\u001b[1;32m     20\u001b[0m     \u001b[0;32mfor\u001b[0m \u001b[0mrow_add_value\u001b[0m \u001b[0;32min\u001b[0m \u001b[0mrange\u001b[0m\u001b[0;34m(\u001b[0m\u001b[0;36m1\u001b[0m\u001b[0;34m,\u001b[0m \u001b[0mn\u001b[0m\u001b[0;34m)\u001b[0m\u001b[0;34m:\u001b[0m\u001b[0;34m\u001b[0m\u001b[0;34m\u001b[0m\u001b[0m\n\u001b[0;32m---> 21\u001b[0;31m         \u001b[0mnext_row\u001b[0m \u001b[0;34m=\u001b[0m \u001b[0;34m[\u001b[0m\u001b[0mval\u001b[0m \u001b[0;34m+\u001b[0m \u001b[0mfirst_row\u001b[0m\u001b[0;34m.\u001b[0m\u001b[0mindex\u001b[0m\u001b[0;34m(\u001b[0m\u001b[0mval\u001b[0m\u001b[0;34m)\u001b[0m \u001b[0;34m+\u001b[0m \u001b[0mrow_add_value\u001b[0m \u001b[0;32mfor\u001b[0m \u001b[0mval\u001b[0m \u001b[0;32min\u001b[0m \u001b[0mfirst_row\u001b[0m\u001b[0;34m]\u001b[0m\u001b[0;34m\u001b[0m\u001b[0;34m\u001b[0m\u001b[0m\n\u001b[0m\u001b[1;32m     22\u001b[0m         \u001b[0mfirst_row\u001b[0m \u001b[0;34m=\u001b[0m \u001b[0mnext_row\u001b[0m\u001b[0;34m\u001b[0m\u001b[0;34m\u001b[0m\u001b[0m\n\u001b[1;32m     23\u001b[0m         \u001b[0mprison_triangle\u001b[0m\u001b[0;34m.\u001b[0m\u001b[0mappend\u001b[0m\u001b[0;34m(\u001b[0m\u001b[0mnext_row\u001b[0m\u001b[0;34m)\u001b[0m\u001b[0;34m\u001b[0m\u001b[0;34m\u001b[0m\u001b[0m\n",
      "\u001b[0;31mAttributeError\u001b[0m: 'numpy.ndarray' object has no attribute 'index'"
     ]
    }
   ],
   "source": [
    "import numpy as np\n",
    "\n",
    "def solution(x, y):\n",
    "\n",
    "    # determining size of prison to create based on input\n",
    "    if x > y:\n",
    "        n = x * 2\n",
    "    else:\n",
    "        n = y * 2\n",
    "\n",
    "    # defining a function which generates the triangular numbers, using it to create a list of triangular numbers\n",
    "    # and then initializing the prison with the triangular number list as the first row (y = 1)\n",
    "    def triangles(i):\n",
    "        return (i ** 2 + i) // 2\n",
    "\n",
    "    first_row = np.array([triangles(ix) for ix in range(1, n)])\n",
    "    prison_triangle = np.array([first_row])\n",
    "\n",
    "    # generating the additional rows in the prison up to the specified size\n",
    "    for row_add_value in range(1, n):\n",
    "        next_row = [val + first_row.index(val) + row_add_value for val in first_row]\n",
    "        first_row = next_row\n",
    "        prison_triangle.append(next_row)\n",
    "\n",
    "    return str(prison_triangle[y - 1][x - 1])\n",
    "\n",
    "print(solution(3, 2))"
   ]
  },
  {
   "cell_type": "code",
   "execution_count": null,
   "metadata": {},
   "outputs": [],
   "source": []
  }
 ],
 "metadata": {
  "kernelspec": {
   "display_name": "Python 3",
   "language": "python",
   "name": "python3"
  },
  "language_info": {
   "codemirror_mode": {
    "name": "ipython",
    "version": 3
   },
   "file_extension": ".py",
   "mimetype": "text/x-python",
   "name": "python",
   "nbconvert_exporter": "python",
   "pygments_lexer": "ipython3",
   "version": "3.7.6"
  }
 },
 "nbformat": 4,
 "nbformat_minor": 4
}
