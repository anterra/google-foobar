{
 "cells": [
  {
   "cell_type": "code",
   "execution_count": null,
   "metadata": {},
   "outputs": [],
   "source": [
    "def solution(x, y):\n",
    "    if x > y:\n",
    "        n = 2 * x + 1\n",
    "    else:\n",
    "        n = 2 * y + 1\n",
    "    num = 1\n",
    "\n",
    "    list_of_lists = []                                                  \n",
    "    for col in range(1, n + 1):\n",
    "        the_list = []\n",
    "        for row in range(1, col + 1):\n",
    "            the_list.append(num)\n",
    "            num += 1\n",
    "        list_of_lists.append(the_list)\n",
    "\n",
    "    y_dict = {}\n",
    "    id_dict = {}\n",
    "    id_key = 1\n",
    "    while list_of_lists:\n",
    "        y_key = 1\n",
    "        y_dict.clear()\n",
    "        for each_list in list_of_lists:\n",
    "            y_dict[y_key] = each_list[0]\n",
    "            each_list.pop(0)\n",
    "            y_key += 1\n",
    "        id_dict[id_key] = dict(y_dict)\n",
    "        id_key += 1\n",
    "        list_of_lists.pop(0)\n",
    "\n",
    "    return str(id_dict[x][y])\n",
    "\n",
    "\n",
    "print(solution(1000, 1000))"
   ]
  },
  {
   "cell_type": "code",
   "execution_count": 184,
   "metadata": {},
   "outputs": [
    {
     "name": "stdout",
     "output_type": "stream",
     "text": [
      "[[1, 2, 3, 4, 5], [1, 2, 3, 4, 5, 1, 2, 3, 4, 5], [1, 2, 3, 4, 5, 1, 2, 3, 4, 5, 1, 2, 3, 4, 5], [1, 2, 3, 4, 5, 1, 2, 3, 4, 5, 1, 2, 3, 4, 5, 1, 2, 3, 4, 5], [1, 2, 3, 4, 5, 1, 2, 3, 4, 5, 1, 2, 3, 4, 5, 1, 2, 3, 4, 5, 1, 2, 3, 4, 5], [1, 2, 3, 4, 5, 1, 2, 3, 4, 5, 1, 2, 3, 4, 5, 1, 2, 3, 4, 5, 1, 2, 3, 4, 5, 1, 2, 3, 4, 5]]\n"
     ]
    }
   ],
   "source": [
    "n = 6\n",
    "\n",
    "def incr(num):\n",
    "    num +=1\n",
    "    return num\n",
    "\n",
    "list_of_lists = [[incr(i) for row in range(0, col_list) for i in range(0, 5)] \n",
    "                 for col_list in range(1, n + 1)] \n",
    "\n",
    "print(list_of_lists)"
   ]
  },
  {
   "cell_type": "code",
   "execution_count": null,
   "metadata": {},
   "outputs": [],
   "source": []
  },
  {
   "cell_type": "code",
   "execution_count": null,
   "metadata": {},
   "outputs": [],
   "source": []
  }
 ],
 "metadata": {
  "kernelspec": {
   "display_name": "Python 3",
   "language": "python",
   "name": "python3"
  },
  "language_info": {
   "codemirror_mode": {
    "name": "ipython",
    "version": 3
   },
   "file_extension": ".py",
   "mimetype": "text/x-python",
   "name": "python",
   "nbconvert_exporter": "python",
   "pygments_lexer": "ipython3",
   "version": "3.7.6"
  }
 },
 "nbformat": 4,
 "nbformat_minor": 4
}
