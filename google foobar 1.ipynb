{
 "cells": [
  {
   "cell_type": "code",
   "execution_count": 16,
   "metadata": {},
   "outputs": [
    {
     "name": "stdout",
     "output_type": "stream",
     "text": [
      "02192\n"
     ]
    }
   ],
   "source": [
    "def solution(i):\n",
    "    list_of_primes = [] \n",
    "    for n in range(1000000):\n",
    "        if n > 1:\n",
    "            for m in range(2, n):\n",
    "                if (n % m) == 0:\n",
    "                    break\n",
    "            else:\n",
    "                list_of_primes.append(n)\n",
    "                string_of_primes = \"\".join(map(str, list_of_primes))\n",
    "                if len(string_of_primes) < 10006:\n",
    "                    pass\n",
    "                else:\n",
    "                    break\n",
    "    tuple_of_primes = tuple(string_of_primes)\n",
    "    id_tuple = tuple_of_primes[i:i+5]\n",
    "    minion_id = \"\".join(map(str, id_tuple))\n",
    "    return minion_id\n",
    "\n",
    "\n",
    "print(solution(10000))"
   ]
  },
  {
   "cell_type": "code",
   "execution_count": 17,
   "metadata": {},
   "outputs": [
    {
     "name": "stdout",
     "output_type": "stream",
     "text": [
      "1.36 s ± 24.1 ms per loop (mean ± std. dev. of 7 runs, 1 loop each)\n"
     ]
    }
   ],
   "source": [
    "%timeit solution(10000)"
   ]
  },
  {
   "cell_type": "code",
   "execution_count": 20,
   "metadata": {},
   "outputs": [
    {
     "name": "stdout",
     "output_type": "stream",
     "text": [
      "02192\n"
     ]
    }
   ],
   "source": [
    "import math\n",
    "\n",
    "\n",
    "def solution(i):\n",
    "    list_of_primes = [n for n in range(2, 20232) if all(n % m != 0 for m in range(2, int(math.sqrt(n))+1))]\n",
    "    string_of_primes = \"\".join(map(str, list_of_primes))\n",
    "    tuple_of_primes = tuple(string_of_primes)\n",
    "    id_tuple = tuple_of_primes[i:i+5]\n",
    "    minion_id = \"\".join(map(str, id_tuple))\n",
    "    return minion_id\n",
    "\n",
    "\n",
    "print(solution(10000))"
   ]
  },
  {
   "cell_type": "code",
   "execution_count": 21,
   "metadata": {},
   "outputs": [
    {
     "name": "stdout",
     "output_type": "stream",
     "text": [
      "29.7 ms ± 704 µs per loop (mean ± std. dev. of 7 runs, 10 loops each)\n"
     ]
    }
   ],
   "source": [
    "%timeit solution(10000)"
   ]
  },
  {
   "cell_type": "code",
   "execution_count": 23,
   "metadata": {},
   "outputs": [
    {
     "name": "stdout",
     "output_type": "stream",
     "text": [
      "02192\n"
     ]
    }
   ],
   "source": [
    "import math\n",
    "\n",
    "\n",
    "def solution(i):\n",
    "    \"\"\" A function which takes an integer between 0 and 10000 as input,\n",
    "    uses it as the index number passed into a single string of ordered prime numbers,\n",
    "    and returns a 5-digit ID number of the next 5 digits in the string starting at the specified index. \"\"\"\n",
    "\n",
    "    # creates a list of ordered prime numbers up to a total concatenated character length of 10000\n",
    "    list_of_primes = [n for n in range(2, 20232) if all(n % m != 0 for m in range(2, int(math.sqrt(n)) + 1))]\n",
    "\n",
    "    # creates a single string of concatenated prime numbers\n",
    "    string_of_primes = \"\".join(map(str, list_of_primes))\n",
    "\n",
    "    # selects and returns the 5 digit ID based on the input\n",
    "    minion_id = string_of_primes[i:i+5]\n",
    "    return minion_id\n",
    "\n",
    "\n",
    "print(solution(10000))"
   ]
  },
  {
   "cell_type": "code",
   "execution_count": 26,
   "metadata": {},
   "outputs": [
    {
     "name": "stdout",
     "output_type": "stream",
     "text": [
      "28.3 ms ± 451 µs per loop (mean ± std. dev. of 7 runs, 10 loops each)\n"
     ]
    }
   ],
   "source": [
    "%timeit solution(10000)"
   ]
  },
  {
   "cell_type": "code",
   "execution_count": 31,
   "metadata": {},
   "outputs": [
    {
     "name": "stdout",
     "output_type": "stream",
     "text": [
      "0219\n"
     ]
    }
   ],
   "source": [
    "import math\n",
    "\n",
    "\n",
    "def solution(i):\n",
    "    \"\"\" A function which takes an integer between 0 and 10000 as input,\n",
    "    uses it as the index number passed into a single string of ordered prime numbers,\n",
    "    and returns a 5-digit ID number of the next 5 digits in the string starting at the specified index. \"\"\"\n",
    "\n",
    "    # function for checking the total concatenated character length\n",
    "    length_list = []\n",
    "\n",
    "    def get_total_length(x):\n",
    "        length_list.append(len(str(x)))\n",
    "        return sum(length_list)\n",
    "\n",
    "    # creates a list of all prime numbers in order up to a total concatenated character length of 10005\n",
    "    # (prompt: # minions up to 10000 = starting index up to 10000, whose 5 digit ID would extend to index 10004)\n",
    "    list_of_primes = [n for n in range(2, 50000) if all(n % m != 0 for m in range(2, int(math.sqrt(n)) + 1))\n",
    "                      if get_total_length(n) < 10005]\n",
    "\n",
    "    # creates a single string of concatenated prime numbers\n",
    "    string_of_primes = \"\".join(map(str, list_of_primes))\n",
    "    #print(len(string_of_primes))\n",
    "\n",
    "    # selects and returns the 5 digit ID based on the input\n",
    "    minion_id = string_of_primes[i:i+5]\n",
    "    return minion_id\n",
    "\n",
    "\n",
    "print(solution(10000))"
   ]
  },
  {
   "cell_type": "code",
   "execution_count": 32,
   "metadata": {},
   "outputs": [
    {
     "name": "stdout",
     "output_type": "stream",
     "text": [
      "138 ms ± 1.34 ms per loop (mean ± std. dev. of 7 runs, 10 loops each)\n"
     ]
    }
   ],
   "source": [
    "%timeit solution(10000)"
   ]
  },
  {
   "cell_type": "code",
   "execution_count": null,
   "metadata": {},
   "outputs": [],
   "source": []
  }
 ],
 "metadata": {
  "kernelspec": {
   "display_name": "Python 3",
   "language": "python",
   "name": "python3"
  },
  "language_info": {
   "codemirror_mode": {
    "name": "ipython",
    "version": 3
   },
   "file_extension": ".py",
   "mimetype": "text/x-python",
   "name": "python",
   "nbconvert_exporter": "python",
   "pygments_lexer": "ipython3",
   "version": "3.7.6"
  }
 },
 "nbformat": 4,
 "nbformat_minor": 4
}
