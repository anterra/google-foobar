{
 "cells": [
  {
   "cell_type": "code",
   "execution_count": null,
   "metadata": {},
   "outputs": [
    {
     "name": "stdout",
     "output_type": "stream",
     "text": [
      "1\n"
     ]
    }
   ],
   "source": [
    "def int_to_base_n(num, base):\n",
    "    str_base_n = \"\"\n",
    "    while num:\n",
    "        mod = num % base\n",
    "        num = num // base\n",
    "        str_base_n = chr(48 + mod + 7*(mod > 9)) + str_base_n\n",
    "    return str_base_n\n",
    "\n",
    "\n",
    "list_of_results = []\n",
    "\n",
    "\n",
    "def solution(n, b):\n",
    "    while True:\n",
    "        # minion_id = int(n, b)  # method of turning string into int of explicit base type\n",
    "        k = len(n)\n",
    "        x_str = \"\".join(reversed(sorted(n)))\n",
    "        x = int(x_str, b)\n",
    "        y_str = \"\".join(sorted(n))\n",
    "        y = int(y_str, b)\n",
    "\n",
    "        z_int = x - y\n",
    "        z = int_to_base_n(z_int, b)\n",
    "        z_str = str(z)\n",
    "\n",
    "        if len(z_str) != k:\n",
    "            right_length_z = z_str.zfill(k)\n",
    "            z = right_length_z\n",
    "        else:\n",
    "            z = z_str\n",
    "\n",
    "        n = z\n",
    "\n",
    "        list_of_results.append(z)\n",
    "        list_of_duplicates = [n for n in list_of_results if list_of_results.count(n) > 2]\n",
    "        unique_duplicates = set(list_of_duplicates)\n",
    "        result = len(unique_duplicates)\n",
    "        if len(list_of_results) == 1000:\n",
    "            break\n",
    "    return result\n",
    "\n",
    "\n",
    "print(solution(\"1211\", 10))\n",
    "print(solution(\"210022\", 3))"
   ]
  },
  {
   "cell_type": "code",
   "execution_count": null,
   "metadata": {},
   "outputs": [],
   "source": [
    "%timeit solution(\"1211\", 10)"
   ]
  },
  {
   "cell_type": "code",
   "execution_count": null,
   "metadata": {},
   "outputs": [],
   "source": []
  }
 ],
 "metadata": {
  "kernelspec": {
   "display_name": "Python 3",
   "language": "python",
   "name": "python3"
  },
  "language_info": {
   "codemirror_mode": {
    "name": "ipython",
    "version": 3
   },
   "file_extension": ".py",
   "mimetype": "text/x-python",
   "name": "python",
   "nbconvert_exporter": "python",
   "pygments_lexer": "ipython3",
   "version": "3.7.6"
  }
 },
 "nbformat": 4,
 "nbformat_minor": 4
}
